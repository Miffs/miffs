{
 "cells": [
  {
   "cell_type": "markdown",
   "metadata": {},
   "source": [
    "# Medium tasks\n",
    "\n",
    "Read about matrixes [here](https://courses.lumenlearning.com/boundless-algebra/chapter/introduction-to-matrices/).\n",
    "Write a function for each of the following operations:\n",
    "\n",
    "1. Add\n",
    "2. Substract\n",
    "3. Scalar_Product\n",
    "4. Multiply\n",
    "\n",
    "We use matrices to list data or to represent systems. Because the entries are numbers, we can perform operations on matrices. We add or subtract matrices by adding or subtracting corresponding entries.\n",
    "\n",
    "In order to do this, the entries must correspond. Therefore, addition and subtraction of matrices is only possible when the matrices have the same dimensions"
   ]
  },
  {
   "cell_type": "markdown",
   "metadata": {},
   "source": [
    "## Add\n",
    "\n",
    "Write a function that takes two lists of lists (of same dimention) as arguments and in results return a new list of lists. Each element of result list of lists is a sum of corresponding elements of the input lists of lists.  "
   ]
  },
  {
   "cell_type": "code",
   "execution_count": 14,
   "metadata": {},
   "outputs": [],
   "source": [
    "matrix_1 = [[1, 2, 3], [4, 5, 6]]\n",
    "matrix_2 = [[10, 20, 30], [40, 50, 60]]"
   ]
  },
  {
   "cell_type": "code",
   "execution_count": 15,
   "metadata": {},
   "outputs": [
    {
     "name": "stdout",
     "output_type": "stream",
     "text": [
      "[[11, 22, 33], [44, 55, 66]]\n"
     ]
    }
   ],
   "source": [
    "def mx_add(m1, m2):\n",
    "    temp_m = []\n",
    "    temp_r = []\n",
    "    result = []\n",
    "    for row in m1: \n",
    "        for element in row:\n",
    "            temp_m.append(element)\n",
    "        result.append([])\n",
    "    \n",
    "    count = 1\n",
    "    for row in m2:\n",
    "        for element in row:\n",
    "            what = element + temp_m[count-1]\n",
    "            count += 1\n",
    "            temp_r.append(what)\n",
    "            \n",
    "    ind = 0\n",
    "    for i in range(len(result)):\n",
    "        for index in range(int(len(temp_r) / len(result))):\n",
    "            result[i].append(temp_r[ind])\n",
    "            ind += 1\n",
    "    return result\n",
    "                 \n",
    "print(mx_add(matrix_1, matrix_2)) \n",
    "\n",
    "\n",
    "            \n",
    "            "
   ]
  },
  {
   "cell_type": "markdown",
   "metadata": {},
   "source": [
    "## Substract\n",
    "\n",
    "Write a function that takes two lists of lists (of same dimention) as arguments and in result returns new list of lists. Each element of the resulting list of lists is a result of substraction of corresponding element in 2nd matrix from resprective element in 1st matrix. "
   ]
  },
  {
   "cell_type": "code",
   "execution_count": 16,
   "metadata": {},
   "outputs": [],
   "source": [
    "matrix_3 = [[10, 20, 30], [40, 50, 60]]\n",
    "matrix_4 = [[1, 2, 3], [4, 5, 6]]"
   ]
  },
  {
   "cell_type": "code",
   "execution_count": 17,
   "metadata": {},
   "outputs": [
    {
     "name": "stdout",
     "output_type": "stream",
     "text": [
      "[[9, 18, 27], [36, 45, 54]]\n"
     ]
    }
   ],
   "source": [
    "def mx_subs(m1, m2):\n",
    "    temp_m = []\n",
    "    temp_r = []\n",
    "    result = []\n",
    "    for row in m1: \n",
    "        for element in row:\n",
    "            temp_m.append(element)\n",
    "        result.append([])\n",
    "    \n",
    "    count = 0\n",
    "    for row in m2:\n",
    "        for element in row: \n",
    "            temp_r.append(temp_m[count] - element)\n",
    "            count += 1\n",
    "    \n",
    "    ind = 0\n",
    "    for i in range(len(result)):\n",
    "        for index in range(int(len(temp_r) / len(result))):\n",
    "            result[i].append(temp_r[ind])\n",
    "            ind += 1\n",
    "    return result\n",
    "\n",
    "print(mx_subs(matrix_3, matrix_4))"
   ]
  },
  {
   "cell_type": "markdown",
   "metadata": {},
   "source": [
    "## Scalar Multiplication \n",
    "\n",
    "Write a function that a list of lists and an integer as arguments and in result returns new list of lists. Each element of the resulting list of lists is a result of multiplication of a corresponding element from a input list of lists and integer argument. "
   ]
  },
  {
   "cell_type": "code",
   "execution_count": 18,
   "metadata": {},
   "outputs": [],
   "source": [
    "matrix_5 = [[10, 20, 30], [40, 50, 60]]"
   ]
  },
  {
   "cell_type": "code",
   "execution_count": 19,
   "metadata": {
    "scrolled": true
   },
   "outputs": [
    {
     "name": "stdout",
     "output_type": "stream",
     "text": [
      "[[30, 60, 90], [120, 150, 180]]\n"
     ]
    }
   ],
   "source": [
    "def mx_sc_m(m1, num):\n",
    "    temp_m = []\n",
    "    temp_r = []\n",
    "    result = []\n",
    "    for row in m1: \n",
    "        for element in row:\n",
    "            temp_m.append(element)\n",
    "        result.append([])\n",
    "    \n",
    "    for element in temp_m: \n",
    "        temp_r.append(num*element)\n",
    "    \n",
    "    ind = 0\n",
    "    for i in range(len(result)):\n",
    "        for index in range(int(len(temp_r) / len(result))):\n",
    "            result[i].append(temp_r[ind])\n",
    "            ind += 1\n",
    "    return result\n",
    "\n",
    "print(mx_sc_m(matrix_5, 3))"
   ]
  },
  {
   "cell_type": "markdown",
   "metadata": {},
   "source": [
    "## Multiplication\n",
    "\n",
    "Write a function that takes two lists of lists as arguments and in results return a new list of lists. Each element of result list of lists is result of matrix multiplication.\n",
    "\n",
    "Logic works as [described here in respective section](https://courses.lumenlearning.com/boundless-algebra/chapter/introduction-to-matrices/)."
   ]
  },
  {
   "cell_type": "code",
   "execution_count": 20,
   "metadata": {},
   "outputs": [],
   "source": [
    "matrix_6 = [[10, 20, 30], [40, 50, 60]]\n",
    "matrix_7 = [[1, 2], [4, 5]]\n",
    "matrix_8 = [[10, 20, 30], [40, 50, 60], [70, 80, 90]]\n",
    "matrix_9 = [[1, 2, 3], [4, 5, 6]]\n",
    "matrix_10 = [[10, 20, 30], [40, 50, 60], [70, 80, 90]]\n",
    "matrix_11 = [[1, 2, 3], [4, 5, 6], [7, 8, 9]]"
   ]
  },
  {
   "cell_type": "code",
   "execution_count": 21,
   "metadata": {},
   "outputs": [
    {
     "name": "stdout",
     "output_type": "stream",
     "text": [
      "No solution for input matrices\n",
      "No solution for input matrices\n",
      "[[120, 300, 540], [480, 750, 1080], [840, 1200, 1620]]\n"
     ]
    }
   ],
   "source": [
    "def mm_mult(m1, m2):\n",
    "    if len(m1[0]) != len(m2):\n",
    "        return \"No solution for input matrices\"\n",
    "    else:  \n",
    "        columns_list = []\n",
    "        for i in range(len(m2[0])):\n",
    "            value_list = []\n",
    "            for row in m2:\n",
    "                value = row[i]\n",
    "                value_list.append(value)\n",
    "            columns_list.append(value_list)\n",
    "    \n",
    "        result = []\n",
    "        for row in m1:\n",
    "            result_row = []\n",
    "            for ind in range(len(m1[0])):\n",
    "                each_list = []\n",
    "                for item in columns_list[ind]:\n",
    "                    each = item*row[ind]\n",
    "                    each_list.append(each)\n",
    "                result_row.append(sum(each_list))\n",
    "            result.append(result_row)\n",
    "        return result\n",
    "\n",
    "print(mm_mult(matrix_6, matrix_7))\n",
    "print(mm_mult(matrix_8, matrix_9))\n",
    "print(mm_mult(matrix_10, matrix_11))    "
   ]
  }
 ],
 "metadata": {
  "kernelspec": {
   "display_name": "Python 3",
   "language": "python",
   "name": "python3"
  },
  "language_info": {
   "codemirror_mode": {
    "name": "ipython",
    "version": 3
   },
   "file_extension": ".py",
   "mimetype": "text/x-python",
   "name": "python",
   "nbconvert_exporter": "python",
   "pygments_lexer": "ipython3",
   "version": "3.7.6"
  }
 },
 "nbformat": 4,
 "nbformat_minor": 4
}
